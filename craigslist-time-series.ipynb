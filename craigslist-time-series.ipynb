{
 "cells": [
  {
   "cell_type": "code",
   "execution_count": 1,
   "id": "3c1d29d0",
   "metadata": {
    "_cell_guid": "b1076dfc-b9ad-4769-8c92-a6c4dae69d19",
    "_uuid": "8f2839f25d086af736a60e9eeb907d3b93b6e0e5",
    "execution": {
     "iopub.execute_input": "2023-10-22T18:00:29.735610Z",
     "iopub.status.busy": "2023-10-22T18:00:29.735201Z",
     "iopub.status.idle": "2023-10-22T18:00:30.170019Z",
     "shell.execute_reply": "2023-10-22T18:00:30.168888Z"
    },
    "papermill": {
     "duration": 0.452127,
     "end_time": "2023-10-22T18:00:30.172950",
     "exception": false,
     "start_time": "2023-10-22T18:00:29.720823",
     "status": "completed"
    },
    "tags": []
   },
   "outputs": [
    {
     "name": "stdout",
     "output_type": "stream",
     "text": [
      "/kaggle/input/craigslist-vehicles/craigslist_vehicles.csv\n"
     ]
    }
   ],
   "source": [
    "# This Python 3 environment comes with many helpful analytics libraries installed\n",
    "# It is defined by the kaggle/python Docker image: https://github.com/kaggle/docker-python\n",
    "# For example, here's several helpful packages to load\n",
    "\n",
    "import numpy as np # linear algebra\n",
    "import pandas as pd # data processing, CSV file I/O (e.g. pd.read_csv)\n",
    "\n",
    "# Input data files are available in the read-only \"../input/\" directory\n",
    "# For example, running this (by clicking run or pressing Shift+Enter) will list all files under the input directory\n",
    "\n",
    "import os\n",
    "for dirname, _, filenames in os.walk('/kaggle/input'):\n",
    "    for filename in filenames:\n",
    "        print(os.path.join(dirname, filename))\n",
    "\n",
    "# You can write up to 20GB to the current directory (/kaggle/working/) that gets preserved as output when you create a version using \"Save & Run All\" \n",
    "# You can also write temporary files to /kaggle/temp/, but they won't be saved outside of the current session"
   ]
  },
  {
   "cell_type": "code",
   "execution_count": 2,
   "id": "2207261f",
   "metadata": {
    "execution": {
     "iopub.execute_input": "2023-10-22T18:00:30.198614Z",
     "iopub.status.busy": "2023-10-22T18:00:30.198069Z",
     "iopub.status.idle": "2023-10-22T18:01:17.666399Z",
     "shell.execute_reply": "2023-10-22T18:01:17.665219Z"
    },
    "papermill": {
     "duration": 47.495758,
     "end_time": "2023-10-22T18:01:17.680687",
     "exception": false,
     "start_time": "2023-10-22T18:00:30.184929",
     "status": "completed"
    },
    "tags": []
   },
   "outputs": [
    {
     "data": {
      "text/html": [
       "<div>\n",
       "<style scoped>\n",
       "    .dataframe tbody tr th:only-of-type {\n",
       "        vertical-align: middle;\n",
       "    }\n",
       "\n",
       "    .dataframe tbody tr th {\n",
       "        vertical-align: top;\n",
       "    }\n",
       "\n",
       "    .dataframe thead th {\n",
       "        text-align: right;\n",
       "    }\n",
       "</style>\n",
       "<table border=\"1\" class=\"dataframe\">\n",
       "  <thead>\n",
       "    <tr style=\"text-align: right;\">\n",
       "      <th></th>\n",
       "      <th>Unnamed: 0</th>\n",
       "      <th>id</th>\n",
       "      <th>url</th>\n",
       "      <th>region</th>\n",
       "      <th>region_url</th>\n",
       "      <th>price</th>\n",
       "      <th>year</th>\n",
       "      <th>manufacturer</th>\n",
       "      <th>model</th>\n",
       "      <th>condition</th>\n",
       "      <th>...</th>\n",
       "      <th>type</th>\n",
       "      <th>paint_color</th>\n",
       "      <th>image_url</th>\n",
       "      <th>description</th>\n",
       "      <th>county</th>\n",
       "      <th>state</th>\n",
       "      <th>lat</th>\n",
       "      <th>long</th>\n",
       "      <th>posting_date</th>\n",
       "      <th>removal_date</th>\n",
       "    </tr>\n",
       "  </thead>\n",
       "  <tbody>\n",
       "    <tr>\n",
       "      <th>0</th>\n",
       "      <td>362773</td>\n",
       "      <td>7307679724</td>\n",
       "      <td>https://abilene.craigslist.org/ctd/d/abilene-2...</td>\n",
       "      <td>abilene</td>\n",
       "      <td>https://abilene.craigslist.org</td>\n",
       "      <td>4500</td>\n",
       "      <td>2002.0</td>\n",
       "      <td>bmw</td>\n",
       "      <td>x5</td>\n",
       "      <td>NaN</td>\n",
       "      <td>...</td>\n",
       "      <td>NaN</td>\n",
       "      <td>NaN</td>\n",
       "      <td>https://images.craigslist.org/00m0m_iba78h8ty9...</td>\n",
       "      <td>$4,500 Cash  2002 BMW X5  8 cylinder 4.4L moto...</td>\n",
       "      <td>NaN</td>\n",
       "      <td>tx</td>\n",
       "      <td>32.401556</td>\n",
       "      <td>-99.884713</td>\n",
       "      <td>2021-04-16 00:00:00+00:00</td>\n",
       "      <td>2021-05-02 00:00:00+00:00</td>\n",
       "    </tr>\n",
       "    <tr>\n",
       "      <th>1</th>\n",
       "      <td>362712</td>\n",
       "      <td>7311833696</td>\n",
       "      <td>https://abilene.craigslist.org/ctd/d/abilene-2...</td>\n",
       "      <td>abilene</td>\n",
       "      <td>https://abilene.craigslist.org</td>\n",
       "      <td>4500</td>\n",
       "      <td>2002.0</td>\n",
       "      <td>bmw</td>\n",
       "      <td>x5</td>\n",
       "      <td>NaN</td>\n",
       "      <td>...</td>\n",
       "      <td>NaN</td>\n",
       "      <td>NaN</td>\n",
       "      <td>https://images.craigslist.org/00m0m_iba78h8ty9...</td>\n",
       "      <td>$4,500 Cash  2002 BMW X5  8 cylinder 4.4L moto...</td>\n",
       "      <td>NaN</td>\n",
       "      <td>tx</td>\n",
       "      <td>32.401556</td>\n",
       "      <td>-99.884713</td>\n",
       "      <td>2021-04-24 00:00:00+00:00</td>\n",
       "      <td>2021-04-28 00:00:00+00:00</td>\n",
       "    </tr>\n",
       "    <tr>\n",
       "      <th>2</th>\n",
       "      <td>362722</td>\n",
       "      <td>7311441996</td>\n",
       "      <td>https://abilene.craigslist.org/ctd/d/abilene-2...</td>\n",
       "      <td>abilene</td>\n",
       "      <td>https://abilene.craigslist.org</td>\n",
       "      <td>4900</td>\n",
       "      <td>2006.0</td>\n",
       "      <td>toyota</td>\n",
       "      <td>camry</td>\n",
       "      <td>excellent</td>\n",
       "      <td>...</td>\n",
       "      <td>sedan</td>\n",
       "      <td>silver</td>\n",
       "      <td>https://images.craigslist.org/00808_5FkOw2aGjA...</td>\n",
       "      <td>2006 TOYOTA CAMRY LE Sedan   Ready To Upgrade ...</td>\n",
       "      <td>NaN</td>\n",
       "      <td>tx</td>\n",
       "      <td>32.453848</td>\n",
       "      <td>-99.787900</td>\n",
       "      <td>2021-04-23 00:00:00+00:00</td>\n",
       "      <td>2021-05-25 00:00:00+00:00</td>\n",
       "    </tr>\n",
       "    <tr>\n",
       "      <th>3</th>\n",
       "      <td>362771</td>\n",
       "      <td>7307680715</td>\n",
       "      <td>https://abilene.craigslist.org/ctd/d/abilene-2...</td>\n",
       "      <td>abilene</td>\n",
       "      <td>https://abilene.craigslist.org</td>\n",
       "      <td>6500</td>\n",
       "      <td>2008.0</td>\n",
       "      <td>ford</td>\n",
       "      <td>expedition</td>\n",
       "      <td>NaN</td>\n",
       "      <td>...</td>\n",
       "      <td>NaN</td>\n",
       "      <td>NaN</td>\n",
       "      <td>https://images.craigslist.org/00M0M_i9CoFvVq8o...</td>\n",
       "      <td>$6500.00 2008 Ford Expedition  8 cylinder 5.4L...</td>\n",
       "      <td>NaN</td>\n",
       "      <td>tx</td>\n",
       "      <td>32.401556</td>\n",
       "      <td>-99.884713</td>\n",
       "      <td>2021-04-16 00:00:00+00:00</td>\n",
       "      <td>2021-04-26 00:00:00+00:00</td>\n",
       "    </tr>\n",
       "    <tr>\n",
       "      <th>4</th>\n",
       "      <td>362710</td>\n",
       "      <td>7311834578</td>\n",
       "      <td>https://abilene.craigslist.org/ctd/d/abilene-2...</td>\n",
       "      <td>abilene</td>\n",
       "      <td>https://abilene.craigslist.org</td>\n",
       "      <td>6500</td>\n",
       "      <td>2008.0</td>\n",
       "      <td>ford</td>\n",
       "      <td>expedition</td>\n",
       "      <td>NaN</td>\n",
       "      <td>...</td>\n",
       "      <td>NaN</td>\n",
       "      <td>NaN</td>\n",
       "      <td>https://images.craigslist.org/00M0M_i9CoFvVq8o...</td>\n",
       "      <td>$6500.00 2008 Ford Expedition  8 cylinder 5.4L...</td>\n",
       "      <td>NaN</td>\n",
       "      <td>tx</td>\n",
       "      <td>32.401556</td>\n",
       "      <td>-99.884713</td>\n",
       "      <td>2021-04-24 00:00:00+00:00</td>\n",
       "      <td>2021-05-12 00:00:00+00:00</td>\n",
       "    </tr>\n",
       "  </tbody>\n",
       "</table>\n",
       "<p>5 rows × 28 columns</p>\n",
       "</div>"
      ],
      "text/plain": [
       "   Unnamed: 0          id                                                url  \\\n",
       "0      362773  7307679724  https://abilene.craigslist.org/ctd/d/abilene-2...   \n",
       "1      362712  7311833696  https://abilene.craigslist.org/ctd/d/abilene-2...   \n",
       "2      362722  7311441996  https://abilene.craigslist.org/ctd/d/abilene-2...   \n",
       "3      362771  7307680715  https://abilene.craigslist.org/ctd/d/abilene-2...   \n",
       "4      362710  7311834578  https://abilene.craigslist.org/ctd/d/abilene-2...   \n",
       "\n",
       "    region                      region_url  price    year manufacturer  \\\n",
       "0  abilene  https://abilene.craigslist.org   4500  2002.0          bmw   \n",
       "1  abilene  https://abilene.craigslist.org   4500  2002.0          bmw   \n",
       "2  abilene  https://abilene.craigslist.org   4900  2006.0       toyota   \n",
       "3  abilene  https://abilene.craigslist.org   6500  2008.0         ford   \n",
       "4  abilene  https://abilene.craigslist.org   6500  2008.0         ford   \n",
       "\n",
       "        model  condition  ...   type paint_color  \\\n",
       "0          x5        NaN  ...    NaN         NaN   \n",
       "1          x5        NaN  ...    NaN         NaN   \n",
       "2       camry  excellent  ...  sedan      silver   \n",
       "3  expedition        NaN  ...    NaN         NaN   \n",
       "4  expedition        NaN  ...    NaN         NaN   \n",
       "\n",
       "                                           image_url  \\\n",
       "0  https://images.craigslist.org/00m0m_iba78h8ty9...   \n",
       "1  https://images.craigslist.org/00m0m_iba78h8ty9...   \n",
       "2  https://images.craigslist.org/00808_5FkOw2aGjA...   \n",
       "3  https://images.craigslist.org/00M0M_i9CoFvVq8o...   \n",
       "4  https://images.craigslist.org/00M0M_i9CoFvVq8o...   \n",
       "\n",
       "                                         description county state        lat  \\\n",
       "0  $4,500 Cash  2002 BMW X5  8 cylinder 4.4L moto...    NaN    tx  32.401556   \n",
       "1  $4,500 Cash  2002 BMW X5  8 cylinder 4.4L moto...    NaN    tx  32.401556   \n",
       "2  2006 TOYOTA CAMRY LE Sedan   Ready To Upgrade ...    NaN    tx  32.453848   \n",
       "3  $6500.00 2008 Ford Expedition  8 cylinder 5.4L...    NaN    tx  32.401556   \n",
       "4  $6500.00 2008 Ford Expedition  8 cylinder 5.4L...    NaN    tx  32.401556   \n",
       "\n",
       "        long               posting_date               removal_date  \n",
       "0 -99.884713  2021-04-16 00:00:00+00:00  2021-05-02 00:00:00+00:00  \n",
       "1 -99.884713  2021-04-24 00:00:00+00:00  2021-04-28 00:00:00+00:00  \n",
       "2 -99.787900  2021-04-23 00:00:00+00:00  2021-05-25 00:00:00+00:00  \n",
       "3 -99.884713  2021-04-16 00:00:00+00:00  2021-04-26 00:00:00+00:00  \n",
       "4 -99.884713  2021-04-24 00:00:00+00:00  2021-05-12 00:00:00+00:00  \n",
       "\n",
       "[5 rows x 28 columns]"
      ]
     },
     "execution_count": 2,
     "metadata": {},
     "output_type": "execute_result"
    }
   ],
   "source": [
    "df = pd.read_csv('/kaggle/input/craigslist-vehicles/craigslist_vehicles.csv')\n",
    "df.head()"
   ]
  },
  {
   "cell_type": "markdown",
   "id": "3310dfad",
   "metadata": {
    "papermill": {
     "duration": 0.012129,
     "end_time": "2023-10-22T18:01:17.705288",
     "exception": false,
     "start_time": "2023-10-22T18:01:17.693159",
     "status": "completed"
    },
    "tags": []
   },
   "source": [
    "# Understanding the Data"
   ]
  },
  {
   "cell_type": "code",
   "execution_count": 3,
   "id": "f9d40787",
   "metadata": {
    "execution": {
     "iopub.execute_input": "2023-10-22T18:01:17.733274Z",
     "iopub.status.busy": "2023-10-22T18:01:17.732818Z",
     "iopub.status.idle": "2023-10-22T18:01:18.590275Z",
     "shell.execute_reply": "2023-10-22T18:01:18.588978Z"
    },
    "papermill": {
     "duration": 0.875731,
     "end_time": "2023-10-22T18:01:18.593547",
     "exception": false,
     "start_time": "2023-10-22T18:01:17.717816",
     "status": "completed"
    },
    "tags": []
   },
   "outputs": [
    {
     "name": "stdout",
     "output_type": "stream",
     "text": [
      "<class 'pandas.core.frame.DataFrame'>\n",
      "RangeIndex: 426880 entries, 0 to 426879\n",
      "Data columns (total 28 columns):\n",
      " #   Column        Non-Null Count   Dtype  \n",
      "---  ------        --------------   -----  \n",
      " 0   Unnamed: 0    426880 non-null  int64  \n",
      " 1   id            426880 non-null  int64  \n",
      " 2   url           426880 non-null  object \n",
      " 3   region        426880 non-null  object \n",
      " 4   region_url    426880 non-null  object \n",
      " 5   price         426880 non-null  int64  \n",
      " 6   year          425675 non-null  float64\n",
      " 7   manufacturer  409234 non-null  object \n",
      " 8   model         421603 non-null  object \n",
      " 9   condition     252776 non-null  object \n",
      " 10  cylinders     249202 non-null  object \n",
      " 11  fuel          423867 non-null  object \n",
      " 12  odometer      422480 non-null  float64\n",
      " 13  title_status  418638 non-null  object \n",
      " 14  transmission  424324 non-null  object \n",
      " 15  VIN           265838 non-null  object \n",
      " 16  drive         296313 non-null  object \n",
      " 17  size          120519 non-null  object \n",
      " 18  type          334022 non-null  object \n",
      " 19  paint_color   296677 non-null  object \n",
      " 20  image_url     426812 non-null  object \n",
      " 21  description   426810 non-null  object \n",
      " 22  county        0 non-null       float64\n",
      " 23  state         426880 non-null  object \n",
      " 24  lat           420331 non-null  float64\n",
      " 25  long          420331 non-null  float64\n",
      " 26  posting_date  426812 non-null  object \n",
      " 27  removal_date  426812 non-null  object \n",
      "dtypes: float64(5), int64(3), object(20)\n",
      "memory usage: 91.2+ MB\n"
     ]
    }
   ],
   "source": [
    "#getting information about the data\n",
    "df.info()"
   ]
  },
  {
   "cell_type": "markdown",
   "id": "08458f53",
   "metadata": {
    "papermill": {
     "duration": 0.012178,
     "end_time": "2023-10-22T18:01:18.618481",
     "exception": false,
     "start_time": "2023-10-22T18:01:18.606303",
     "status": "completed"
    },
    "tags": []
   },
   "source": [
    "dropping the county column and unnamed column"
   ]
  },
  {
   "cell_type": "code",
   "execution_count": 4,
   "id": "dc885217",
   "metadata": {
    "execution": {
     "iopub.execute_input": "2023-10-22T18:01:18.645128Z",
     "iopub.status.busy": "2023-10-22T18:01:18.644702Z",
     "iopub.status.idle": "2023-10-22T18:01:18.941534Z",
     "shell.execute_reply": "2023-10-22T18:01:18.940267Z"
    },
    "papermill": {
     "duration": 0.313471,
     "end_time": "2023-10-22T18:01:18.944411",
     "exception": false,
     "start_time": "2023-10-22T18:01:18.630940",
     "status": "completed"
    },
    "tags": []
   },
   "outputs": [],
   "source": [
    "df = df.drop('county', axis=1)\n",
    "df = df.drop('Unnamed: 0', axis=1)"
   ]
  },
  {
   "cell_type": "code",
   "execution_count": 5,
   "id": "c1e2dbd5",
   "metadata": {
    "execution": {
     "iopub.execute_input": "2023-10-22T18:01:18.971736Z",
     "iopub.status.busy": "2023-10-22T18:01:18.971279Z",
     "iopub.status.idle": "2023-10-22T18:01:19.206842Z",
     "shell.execute_reply": "2023-10-22T18:01:19.205599Z"
    },
    "papermill": {
     "duration": 0.252643,
     "end_time": "2023-10-22T18:01:19.209786",
     "exception": false,
     "start_time": "2023-10-22T18:01:18.957143",
     "status": "completed"
    },
    "tags": []
   },
   "outputs": [],
   "source": [
    "#converting posting_date andremoval_date into datetime\n",
    "df['posting_date'] = pd.to_datetime(df['posting_date'])\n",
    "df['removal_date'] = pd.to_datetime(df['removal_date'])"
   ]
  },
  {
   "cell_type": "code",
   "execution_count": 6,
   "id": "80ec7928",
   "metadata": {
    "execution": {
     "iopub.execute_input": "2023-10-22T18:01:19.237564Z",
     "iopub.status.busy": "2023-10-22T18:01:19.236757Z",
     "iopub.status.idle": "2023-10-22T18:01:19.385870Z",
     "shell.execute_reply": "2023-10-22T18:01:19.384746Z"
    },
    "papermill": {
     "duration": 0.165963,
     "end_time": "2023-10-22T18:01:19.388433",
     "exception": false,
     "start_time": "2023-10-22T18:01:19.222470",
     "status": "completed"
    },
    "tags": []
   },
   "outputs": [
    {
     "data": {
      "text/html": [
       "<div>\n",
       "<style scoped>\n",
       "    .dataframe tbody tr th:only-of-type {\n",
       "        vertical-align: middle;\n",
       "    }\n",
       "\n",
       "    .dataframe tbody tr th {\n",
       "        vertical-align: top;\n",
       "    }\n",
       "\n",
       "    .dataframe thead th {\n",
       "        text-align: right;\n",
       "    }\n",
       "</style>\n",
       "<table border=\"1\" class=\"dataframe\">\n",
       "  <thead>\n",
       "    <tr style=\"text-align: right;\">\n",
       "      <th></th>\n",
       "      <th>count</th>\n",
       "      <th>mean</th>\n",
       "      <th>std</th>\n",
       "      <th>min</th>\n",
       "      <th>25%</th>\n",
       "      <th>50%</th>\n",
       "      <th>75%</th>\n",
       "      <th>max</th>\n",
       "    </tr>\n",
       "  </thead>\n",
       "  <tbody>\n",
       "    <tr>\n",
       "      <th>id</th>\n",
       "      <td>426880.0</td>\n",
       "      <td>7.311487e+09</td>\n",
       "      <td>4.473170e+06</td>\n",
       "      <td>7.207408e+09</td>\n",
       "      <td>7.308143e+09</td>\n",
       "      <td>7.312621e+09</td>\n",
       "      <td>7.315254e+09</td>\n",
       "      <td>7.317101e+09</td>\n",
       "    </tr>\n",
       "    <tr>\n",
       "      <th>price</th>\n",
       "      <td>426880.0</td>\n",
       "      <td>7.519903e+04</td>\n",
       "      <td>1.218228e+07</td>\n",
       "      <td>0.000000e+00</td>\n",
       "      <td>5.900000e+03</td>\n",
       "      <td>1.395000e+04</td>\n",
       "      <td>2.648575e+04</td>\n",
       "      <td>3.736929e+09</td>\n",
       "    </tr>\n",
       "    <tr>\n",
       "      <th>year</th>\n",
       "      <td>425675.0</td>\n",
       "      <td>2.011235e+03</td>\n",
       "      <td>9.452120e+00</td>\n",
       "      <td>1.900000e+03</td>\n",
       "      <td>2.008000e+03</td>\n",
       "      <td>2.013000e+03</td>\n",
       "      <td>2.017000e+03</td>\n",
       "      <td>2.022000e+03</td>\n",
       "    </tr>\n",
       "    <tr>\n",
       "      <th>odometer</th>\n",
       "      <td>422480.0</td>\n",
       "      <td>9.804333e+04</td>\n",
       "      <td>2.138815e+05</td>\n",
       "      <td>0.000000e+00</td>\n",
       "      <td>3.770400e+04</td>\n",
       "      <td>8.554800e+04</td>\n",
       "      <td>1.335425e+05</td>\n",
       "      <td>1.000000e+07</td>\n",
       "    </tr>\n",
       "    <tr>\n",
       "      <th>lat</th>\n",
       "      <td>420331.0</td>\n",
       "      <td>3.849394e+01</td>\n",
       "      <td>5.841533e+00</td>\n",
       "      <td>-8.412225e+01</td>\n",
       "      <td>3.460190e+01</td>\n",
       "      <td>3.915010e+01</td>\n",
       "      <td>4.239890e+01</td>\n",
       "      <td>8.239082e+01</td>\n",
       "    </tr>\n",
       "    <tr>\n",
       "      <th>long</th>\n",
       "      <td>420331.0</td>\n",
       "      <td>-9.474860e+01</td>\n",
       "      <td>1.836546e+01</td>\n",
       "      <td>-1.598277e+02</td>\n",
       "      <td>-1.119398e+02</td>\n",
       "      <td>-8.843260e+01</td>\n",
       "      <td>-8.083204e+01</td>\n",
       "      <td>1.738855e+02</td>\n",
       "    </tr>\n",
       "  </tbody>\n",
       "</table>\n",
       "</div>"
      ],
      "text/plain": [
       "             count          mean           std           min           25%  \\\n",
       "id        426880.0  7.311487e+09  4.473170e+06  7.207408e+09  7.308143e+09   \n",
       "price     426880.0  7.519903e+04  1.218228e+07  0.000000e+00  5.900000e+03   \n",
       "year      425675.0  2.011235e+03  9.452120e+00  1.900000e+03  2.008000e+03   \n",
       "odometer  422480.0  9.804333e+04  2.138815e+05  0.000000e+00  3.770400e+04   \n",
       "lat       420331.0  3.849394e+01  5.841533e+00 -8.412225e+01  3.460190e+01   \n",
       "long      420331.0 -9.474860e+01  1.836546e+01 -1.598277e+02 -1.119398e+02   \n",
       "\n",
       "                   50%           75%           max  \n",
       "id        7.312621e+09  7.315254e+09  7.317101e+09  \n",
       "price     1.395000e+04  2.648575e+04  3.736929e+09  \n",
       "year      2.013000e+03  2.017000e+03  2.022000e+03  \n",
       "odometer  8.554800e+04  1.335425e+05  1.000000e+07  \n",
       "lat       3.915010e+01  4.239890e+01  8.239082e+01  \n",
       "long     -8.843260e+01 -8.083204e+01  1.738855e+02  "
      ]
     },
     "execution_count": 6,
     "metadata": {},
     "output_type": "execute_result"
    }
   ],
   "source": [
    "#getting summary statistics for the dataset\n",
    "df.describe().T"
   ]
  },
  {
   "cell_type": "code",
   "execution_count": 7,
   "id": "d05b1106",
   "metadata": {
    "execution": {
     "iopub.execute_input": "2023-10-22T18:01:19.415831Z",
     "iopub.status.busy": "2023-10-22T18:01:19.415451Z",
     "iopub.status.idle": "2023-10-22T18:01:19.422782Z",
     "shell.execute_reply": "2023-10-22T18:01:19.421868Z"
    },
    "papermill": {
     "duration": 0.02369,
     "end_time": "2023-10-22T18:01:19.424963",
     "exception": false,
     "start_time": "2023-10-22T18:01:19.401273",
     "status": "completed"
    },
    "tags": []
   },
   "outputs": [
    {
     "data": {
      "text/plain": [
       "(426880, 26)"
      ]
     },
     "execution_count": 7,
     "metadata": {},
     "output_type": "execute_result"
    }
   ],
   "source": [
    "df.shape"
   ]
  },
  {
   "cell_type": "code",
   "execution_count": 8,
   "id": "10723b2f",
   "metadata": {
    "execution": {
     "iopub.execute_input": "2023-10-22T18:01:19.453049Z",
     "iopub.status.busy": "2023-10-22T18:01:19.452624Z",
     "iopub.status.idle": "2023-10-22T18:01:20.211555Z",
     "shell.execute_reply": "2023-10-22T18:01:20.210416Z"
    },
    "papermill": {
     "duration": 0.776159,
     "end_time": "2023-10-22T18:01:20.214248",
     "exception": false,
     "start_time": "2023-10-22T18:01:19.438089",
     "status": "completed"
    },
    "tags": []
   },
   "outputs": [
    {
     "data": {
      "text/plain": [
       "id                   0\n",
       "url                  0\n",
       "region               0\n",
       "region_url           0\n",
       "price                0\n",
       "year              1205\n",
       "manufacturer     17646\n",
       "model             5277\n",
       "condition       174104\n",
       "cylinders       177678\n",
       "fuel              3013\n",
       "odometer          4400\n",
       "title_status      8242\n",
       "transmission      2556\n",
       "VIN             161042\n",
       "drive           130567\n",
       "size            306361\n",
       "type             92858\n",
       "paint_color     130203\n",
       "image_url           68\n",
       "description         70\n",
       "state                0\n",
       "lat               6549\n",
       "long              6549\n",
       "posting_date        68\n",
       "removal_date        68\n",
       "dtype: int64"
      ]
     },
     "execution_count": 8,
     "metadata": {},
     "output_type": "execute_result"
    }
   ],
   "source": [
    "#checking for missing values\n",
    "df.isna().sum()"
   ]
  },
  {
   "cell_type": "code",
   "execution_count": 9,
   "id": "dbc48389",
   "metadata": {
    "execution": {
     "iopub.execute_input": "2023-10-22T18:01:20.243259Z",
     "iopub.status.busy": "2023-10-22T18:01:20.242225Z",
     "iopub.status.idle": "2023-10-22T18:01:20.248687Z",
     "shell.execute_reply": "2023-10-22T18:01:20.247873Z"
    },
    "papermill": {
     "duration": 0.023133,
     "end_time": "2023-10-22T18:01:20.250847",
     "exception": false,
     "start_time": "2023-10-22T18:01:20.227714",
     "status": "completed"
    },
    "tags": []
   },
   "outputs": [
    {
     "data": {
      "text/plain": [
       "Index(['id', 'url', 'region', 'region_url', 'price', 'year', 'manufacturer',\n",
       "       'model', 'condition', 'cylinders', 'fuel', 'odometer', 'title_status',\n",
       "       'transmission', 'VIN', 'drive', 'size', 'type', 'paint_color',\n",
       "       'image_url', 'description', 'state', 'lat', 'long', 'posting_date',\n",
       "       'removal_date'],\n",
       "      dtype='object')"
      ]
     },
     "execution_count": 9,
     "metadata": {},
     "output_type": "execute_result"
    }
   ],
   "source": [
    "df.columns"
   ]
  },
  {
   "cell_type": "code",
   "execution_count": 10,
   "id": "dff171be",
   "metadata": {
    "execution": {
     "iopub.execute_input": "2023-10-22T18:01:20.280138Z",
     "iopub.status.busy": "2023-10-22T18:01:20.279291Z",
     "iopub.status.idle": "2023-10-22T18:01:25.021421Z",
     "shell.execute_reply": "2023-10-22T18:01:25.020024Z"
    },
    "papermill": {
     "duration": 4.760018,
     "end_time": "2023-10-22T18:01:25.024236",
     "exception": false,
     "start_time": "2023-10-22T18:01:20.264218",
     "status": "completed"
    },
    "tags": []
   },
   "outputs": [
    {
     "name": "stdout",
     "output_type": "stream",
     "text": [
      "Column: id\n",
      "Number of unique values: 426880\n",
      "Column: url\n",
      "Number of unique values: 426880\n",
      "Column: region\n",
      "Number of unique values: 404\n",
      "Column: region_url\n",
      "Number of unique values: 413\n",
      "Column: price\n",
      "Number of unique values: 15655\n",
      "Column: year\n",
      "Number of unique values: 114\n",
      "Column: manufacturer\n",
      "Number of unique values: 42\n",
      "Column: model\n",
      "Number of unique values: 29667\n",
      "Column: condition\n",
      "condition\n",
      "good         121456\n",
      "excellent    101467\n",
      "like new      21178\n",
      "fair           6769\n",
      "new            1305\n",
      "salvage         601\n",
      "Name: count, dtype: int64\n",
      "Column: cylinders\n",
      "cylinders\n",
      "6 cylinders     94169\n",
      "4 cylinders     77642\n",
      "8 cylinders     72062\n",
      "5 cylinders      1712\n",
      "10 cylinders     1455\n",
      "other            1298\n",
      "3 cylinders       655\n",
      "12 cylinders      209\n",
      "Name: count, dtype: int64\n",
      "Column: fuel\n",
      "fuel\n",
      "gas         356209\n",
      "other        30728\n",
      "diesel       30062\n",
      "hybrid        5170\n",
      "electric      1698\n",
      "Name: count, dtype: int64\n",
      "Column: odometer\n",
      "Number of unique values: 104870\n",
      "Column: title_status\n",
      "title_status\n",
      "clean         405117\n",
      "rebuilt         7219\n",
      "salvage         3868\n",
      "lien            1422\n",
      "missing          814\n",
      "parts only       198\n",
      "Name: count, dtype: int64\n",
      "Column: transmission\n",
      "transmission\n",
      "automatic    336524\n",
      "other         62682\n",
      "manual        25118\n",
      "Name: count, dtype: int64\n",
      "Column: VIN\n",
      "Number of unique values: 118264\n",
      "Column: drive\n",
      "drive\n",
      "4wd    131904\n",
      "fwd    105517\n",
      "rwd     58892\n",
      "Name: count, dtype: int64\n",
      "Column: size\n",
      "size\n",
      "full-size      63465\n",
      "mid-size       34476\n",
      "compact        19384\n",
      "sub-compact     3194\n",
      "Name: count, dtype: int64\n",
      "Column: type\n",
      "Number of unique values: 13\n",
      "Column: paint_color\n",
      "Number of unique values: 12\n",
      "Column: image_url\n",
      "Number of unique values: 241899\n",
      "Column: description\n",
      "Number of unique values: 360911\n",
      "Column: state\n",
      "Number of unique values: 51\n",
      "Column: lat\n",
      "Number of unique values: 53181\n",
      "Column: long\n",
      "Number of unique values: 53772\n",
      "Column: posting_date\n",
      "Number of unique values: 32\n",
      "Column: removal_date\n",
      "Number of unique values: 88\n"
     ]
    }
   ],
   "source": [
    "#displaying the value counts for columns\n",
    "for column in df.columns:\n",
    "    value_counts = df[column].value_counts()\n",
    "    unique = len(value_counts)\n",
    "    \n",
    "    if unique <= 10:\n",
    "        print(f\"Column: {column}\")\n",
    "        print(value_counts)\n",
    "    else:\n",
    "        print(f\"Column: {column}\")\n",
    "        print(f\"Number of unique values: {unique}\")"
   ]
  },
  {
   "cell_type": "code",
   "execution_count": 11,
   "id": "22810660",
   "metadata": {
    "execution": {
     "iopub.execute_input": "2023-10-22T18:01:25.054674Z",
     "iopub.status.busy": "2023-10-22T18:01:25.054196Z",
     "iopub.status.idle": "2023-10-22T18:01:25.342222Z",
     "shell.execute_reply": "2023-10-22T18:01:25.341028Z"
    },
    "papermill": {
     "duration": 0.306802,
     "end_time": "2023-10-22T18:01:25.345210",
     "exception": false,
     "start_time": "2023-10-22T18:01:25.038408",
     "status": "completed"
    },
    "tags": []
   },
   "outputs": [],
   "source": [
    "#dropping image_url and description\n",
    "df = df.drop('image_url', axis=1)\n",
    "df = df.drop('description', axis=1)"
   ]
  },
  {
   "cell_type": "markdown",
   "id": "688aeabe",
   "metadata": {
    "papermill": {
     "duration": 0.013462,
     "end_time": "2023-10-22T18:01:25.372540",
     "exception": false,
     "start_time": "2023-10-22T18:01:25.359078",
     "status": "completed"
    },
    "tags": []
   },
   "source": [
    "filling the missing values in categorical columns with the mode"
   ]
  },
  {
   "cell_type": "code",
   "execution_count": 12,
   "id": "ac9479b1",
   "metadata": {
    "execution": {
     "iopub.execute_input": "2023-10-22T18:01:25.403253Z",
     "iopub.status.busy": "2023-10-22T18:01:25.402148Z",
     "iopub.status.idle": "2023-10-22T18:01:25.545985Z",
     "shell.execute_reply": "2023-10-22T18:01:25.544461Z"
    },
    "papermill": {
     "duration": 0.162179,
     "end_time": "2023-10-22T18:01:25.548916",
     "exception": false,
     "start_time": "2023-10-22T18:01:25.386737",
     "status": "completed"
    },
    "tags": []
   },
   "outputs": [
    {
     "name": "stdout",
     "output_type": "stream",
     "text": [
      "Index(['url', 'region', 'region_url', 'manufacturer', 'model', 'condition',\n",
      "       'cylinders', 'fuel', 'title_status', 'transmission', 'VIN', 'drive',\n",
      "       'size', 'type', 'paint_color', 'state'],\n",
      "      dtype='object')\n"
     ]
    }
   ],
   "source": [
    "#grouping all the categorical columns\n",
    "categorical_columns = df.select_dtypes(include='object').columns\n",
    "print(categorical_columns)"
   ]
  },
  {
   "cell_type": "code",
   "execution_count": 13,
   "id": "b97abc9f",
   "metadata": {
    "execution": {
     "iopub.execute_input": "2023-10-22T18:01:25.579347Z",
     "iopub.status.busy": "2023-10-22T18:01:25.578924Z",
     "iopub.status.idle": "2023-10-22T18:01:28.178984Z",
     "shell.execute_reply": "2023-10-22T18:01:28.177900Z"
    },
    "papermill": {
     "duration": 2.61883,
     "end_time": "2023-10-22T18:01:28.181955",
     "exception": false,
     "start_time": "2023-10-22T18:01:25.563125",
     "status": "completed"
    },
    "tags": []
   },
   "outputs": [],
   "source": [
    "#filling missing values with the mode\n",
    "for column in categorical_columns:\n",
    "    #calculating the mode\n",
    "    mode = df[column].mode()[0]\n",
    "    #filling missing values with mode\n",
    "    df[column].fillna(mode, inplace=True)\n",
    "    "
   ]
  },
  {
   "cell_type": "code",
   "execution_count": 14,
   "id": "40d69596",
   "metadata": {
    "execution": {
     "iopub.execute_input": "2023-10-22T18:01:28.212119Z",
     "iopub.status.busy": "2023-10-22T18:01:28.211736Z",
     "iopub.status.idle": "2023-10-22T18:01:28.231546Z",
     "shell.execute_reply": "2023-10-22T18:01:28.229867Z"
    },
    "papermill": {
     "duration": 0.038385,
     "end_time": "2023-10-22T18:01:28.234468",
     "exception": false,
     "start_time": "2023-10-22T18:01:28.196083",
     "status": "completed"
    },
    "tags": []
   },
   "outputs": [
    {
     "name": "stdout",
     "output_type": "stream",
     "text": [
      "Index(['id', 'price', 'year', 'odometer', 'lat', 'long'], dtype='object')\n"
     ]
    }
   ],
   "source": [
    "#grouping all the numerical columns\n",
    "numerical_column = df.select_dtypes(include=['int', 'float']).columns\n",
    "print(numerical_column)"
   ]
  },
  {
   "cell_type": "markdown",
   "id": "aaa87b72",
   "metadata": {
    "papermill": {
     "duration": 0.014067,
     "end_time": "2023-10-22T18:01:28.263074",
     "exception": false,
     "start_time": "2023-10-22T18:01:28.249007",
     "status": "completed"
    },
    "tags": []
   },
   "source": [
    "since the rows in posting_date and removal_date that have missing values are only 68 from a total of 472k rows, i am dropping the rows with missing values in both columns"
   ]
  },
  {
   "cell_type": "code",
   "execution_count": 15,
   "id": "d18505c7",
   "metadata": {
    "execution": {
     "iopub.execute_input": "2023-10-22T18:01:28.292964Z",
     "iopub.status.busy": "2023-10-22T18:01:28.292575Z",
     "iopub.status.idle": "2023-10-22T18:01:28.476020Z",
     "shell.execute_reply": "2023-10-22T18:01:28.474679Z"
    },
    "papermill": {
     "duration": 0.201434,
     "end_time": "2023-10-22T18:01:28.478630",
     "exception": false,
     "start_time": "2023-10-22T18:01:28.277196",
     "status": "completed"
    },
    "tags": []
   },
   "outputs": [],
   "source": [
    "#dropping the rows with missing values in posting_date and removal_date columns\n",
    "df.dropna(subset=['posting_date', 'removal_date'], inplace=True)"
   ]
  },
  {
   "cell_type": "code",
   "execution_count": 16,
   "id": "029338d3",
   "metadata": {
    "execution": {
     "iopub.execute_input": "2023-10-22T18:01:28.508762Z",
     "iopub.status.busy": "2023-10-22T18:01:28.508336Z",
     "iopub.status.idle": "2023-10-22T18:01:28.520580Z",
     "shell.execute_reply": "2023-10-22T18:01:28.519433Z"
    },
    "papermill": {
     "duration": 0.030316,
     "end_time": "2023-10-22T18:01:28.523060",
     "exception": false,
     "start_time": "2023-10-22T18:01:28.492744",
     "status": "completed"
    },
    "tags": []
   },
   "outputs": [
    {
     "data": {
      "text/plain": [
       "114"
      ]
     },
     "execution_count": 16,
     "metadata": {},
     "output_type": "execute_result"
    }
   ],
   "source": [
    "#analyzing the year column\n",
    "df['year'].nunique()\n"
   ]
  },
  {
   "cell_type": "markdown",
   "id": "74193d6a",
   "metadata": {
    "papermill": {
     "duration": 0.013835,
     "end_time": "2023-10-22T18:01:28.551520",
     "exception": false,
     "start_time": "2023-10-22T18:01:28.537685",
     "status": "completed"
    },
    "tags": []
   },
   "source": [
    "Dropping the year column as there are too many unique values and assuming the year of make would be bad data practices"
   ]
  },
  {
   "cell_type": "code",
   "execution_count": 17,
   "id": "1469dc1d",
   "metadata": {
    "execution": {
     "iopub.execute_input": "2023-10-22T18:01:28.581805Z",
     "iopub.status.busy": "2023-10-22T18:01:28.581396Z",
     "iopub.status.idle": "2023-10-22T18:01:28.706661Z",
     "shell.execute_reply": "2023-10-22T18:01:28.705290Z"
    },
    "papermill": {
     "duration": 0.143717,
     "end_time": "2023-10-22T18:01:28.709491",
     "exception": false,
     "start_time": "2023-10-22T18:01:28.565774",
     "status": "completed"
    },
    "tags": []
   },
   "outputs": [],
   "source": [
    "df = df.drop('year', axis=1)"
   ]
  },
  {
   "cell_type": "code",
   "execution_count": 18,
   "id": "81a47fca",
   "metadata": {
    "execution": {
     "iopub.execute_input": "2023-10-22T18:01:28.740277Z",
     "iopub.status.busy": "2023-10-22T18:01:28.739913Z",
     "iopub.status.idle": "2023-10-22T18:01:28.760640Z",
     "shell.execute_reply": "2023-10-22T18:01:28.759543Z"
    },
    "papermill": {
     "duration": 0.039013,
     "end_time": "2023-10-22T18:01:28.763219",
     "exception": false,
     "start_time": "2023-10-22T18:01:28.724206",
     "status": "completed"
    },
    "tags": []
   },
   "outputs": [
    {
     "data": {
      "text/plain": [
       "104870"
      ]
     },
     "execution_count": 18,
     "metadata": {},
     "output_type": "execute_result"
    }
   ],
   "source": [
    "#analyzing the odometer column\n",
    "df['odometer'].nunique()"
   ]
  },
  {
   "cell_type": "code",
   "execution_count": 19,
   "id": "f6e522dd",
   "metadata": {
    "execution": {
     "iopub.execute_input": "2023-10-22T18:01:28.857732Z",
     "iopub.status.busy": "2023-10-22T18:01:28.857306Z",
     "iopub.status.idle": "2023-10-22T18:01:28.873085Z",
     "shell.execute_reply": "2023-10-22T18:01:28.871935Z"
    },
    "papermill": {
     "duration": 0.034581,
     "end_time": "2023-10-22T18:01:28.875829",
     "exception": false,
     "start_time": "2023-10-22T18:01:28.841248",
     "status": "completed"
    },
    "tags": []
   },
   "outputs": [],
   "source": [
    "#filling the missing values in the odometer column\n",
    "#calculating the median\n",
    "median = df['odometer'].median()\n",
    "#filling the missing values\n",
    "df['odometer'].fillna(median, inplace=True)"
   ]
  },
  {
   "cell_type": "markdown",
   "id": "95e2ba4e",
   "metadata": {
    "papermill": {
     "duration": 0.014153,
     "end_time": "2023-10-22T18:01:28.904714",
     "exception": false,
     "start_time": "2023-10-22T18:01:28.890561",
     "status": "completed"
    },
    "tags": []
   },
   "source": [
    "dropping the lat and long columns to replace them with latitude and longitude using values from the python library geopy. This is to help with filling the missing values in both columns accurately"
   ]
  },
  {
   "cell_type": "code",
   "execution_count": 20,
   "id": "9c002e72",
   "metadata": {
    "execution": {
     "iopub.execute_input": "2023-10-22T18:01:28.935353Z",
     "iopub.status.busy": "2023-10-22T18:01:28.934978Z",
     "iopub.status.idle": "2023-10-22T18:01:29.177930Z",
     "shell.execute_reply": "2023-10-22T18:01:29.176750Z"
    },
    "papermill": {
     "duration": 0.26184,
     "end_time": "2023-10-22T18:01:29.180978",
     "exception": false,
     "start_time": "2023-10-22T18:01:28.919138",
     "status": "completed"
    },
    "tags": []
   },
   "outputs": [],
   "source": [
    "df =df.drop('lat', axis=1)\n",
    "df = df.drop('long', axis=1)"
   ]
  },
  {
   "cell_type": "code",
   "execution_count": 21,
   "id": "fbc5856e",
   "metadata": {
    "execution": {
     "iopub.execute_input": "2023-10-22T18:01:29.211523Z",
     "iopub.status.busy": "2023-10-22T18:01:29.211069Z",
     "iopub.status.idle": "2023-10-22T18:01:29.216837Z",
     "shell.execute_reply": "2023-10-22T18:01:29.215445Z"
    },
    "papermill": {
     "duration": 0.023992,
     "end_time": "2023-10-22T18:01:29.219419",
     "exception": false,
     "start_time": "2023-10-22T18:01:29.195427",
     "status": "completed"
    },
    "tags": []
   },
   "outputs": [],
   "source": [
    "#from geopy.geocoders import Nominatim\n",
    "#creating new columns for latitude and longitude\n",
    "#df['latitude'] = None\n",
    "#df['longitude'] = None\n",
    "\n",
    "#creating a geolocator using Nominatim\n",
    "#geolocator = Nominatim(user_agent=\"craigslist_time_series\")\n",
    "\n",
    "#geocoding the state values\n",
    "#for index, row in df.iterrows():\n",
    "#    location = geolocator.geocode(row['state'])\n",
    "#    if location is not None:\n",
    "#        df.at[index, 'latitude'] = location.latitude\n",
    "#        df.at[index, 'longitude'] = location.longitude\n",
    "        \n",
    "#df.head()"
   ]
  },
  {
   "cell_type": "code",
   "execution_count": 22,
   "id": "86f28227",
   "metadata": {
    "execution": {
     "iopub.execute_input": "2023-10-22T18:01:29.250921Z",
     "iopub.status.busy": "2023-10-22T18:01:29.249979Z",
     "iopub.status.idle": "2023-10-22T18:01:29.953380Z",
     "shell.execute_reply": "2023-10-22T18:01:29.952297Z"
    },
    "papermill": {
     "duration": 0.721688,
     "end_time": "2023-10-22T18:01:29.955729",
     "exception": false,
     "start_time": "2023-10-22T18:01:29.234041",
     "status": "completed"
    },
    "tags": []
   },
   "outputs": [
    {
     "data": {
      "text/plain": [
       "id              0\n",
       "url             0\n",
       "region          0\n",
       "region_url      0\n",
       "price           0\n",
       "manufacturer    0\n",
       "model           0\n",
       "condition       0\n",
       "cylinders       0\n",
       "fuel            0\n",
       "odometer        0\n",
       "title_status    0\n",
       "transmission    0\n",
       "VIN             0\n",
       "drive           0\n",
       "size            0\n",
       "type            0\n",
       "paint_color     0\n",
       "state           0\n",
       "posting_date    0\n",
       "removal_date    0\n",
       "dtype: int64"
      ]
     },
     "execution_count": 22,
     "metadata": {},
     "output_type": "execute_result"
    }
   ],
   "source": [
    "df.isna().sum()"
   ]
  },
  {
   "cell_type": "code",
   "execution_count": 23,
   "id": "c88c5bf6",
   "metadata": {
    "execution": {
     "iopub.execute_input": "2023-10-22T18:01:29.988154Z",
     "iopub.status.busy": "2023-10-22T18:01:29.987761Z",
     "iopub.status.idle": "2023-10-22T18:01:30.006815Z",
     "shell.execute_reply": "2023-10-22T18:01:30.005219Z"
    },
    "papermill": {
     "duration": 0.038647,
     "end_time": "2023-10-22T18:01:30.009752",
     "exception": false,
     "start_time": "2023-10-22T18:01:29.971105",
     "status": "completed"
    },
    "tags": []
   },
   "outputs": [],
   "source": [
    "#creating a column 'days_on_site' to show the number number of days between the posting_date and removal_date\n",
    "df['days_on_site'] = (df['removal_date'] - df['posting_date']).dt.days"
   ]
  },
  {
   "cell_type": "code",
   "execution_count": 24,
   "id": "20b149d3",
   "metadata": {
    "execution": {
     "iopub.execute_input": "2023-10-22T18:01:30.044271Z",
     "iopub.status.busy": "2023-10-22T18:01:30.043849Z",
     "iopub.status.idle": "2023-10-22T18:01:30.067130Z",
     "shell.execute_reply": "2023-10-22T18:01:30.066206Z"
    },
    "papermill": {
     "duration": 0.043132,
     "end_time": "2023-10-22T18:01:30.069651",
     "exception": false,
     "start_time": "2023-10-22T18:01:30.026519",
     "status": "completed"
    },
    "tags": []
   },
   "outputs": [
    {
     "data": {
      "text/plain": [
       "count    426812.000000\n",
       "mean         15.584520\n",
       "std           9.060175\n",
       "min           0.000000\n",
       "25%           9.000000\n",
       "50%          15.000000\n",
       "75%          22.000000\n",
       "max          63.000000\n",
       "Name: days_on_site, dtype: float64"
      ]
     },
     "execution_count": 24,
     "metadata": {},
     "output_type": "execute_result"
    }
   ],
   "source": [
    "df['days_on_site'].describe()"
   ]
  },
  {
   "cell_type": "code",
   "execution_count": 25,
   "id": "a678dd6e",
   "metadata": {
    "execution": {
     "iopub.execute_input": "2023-10-22T18:01:30.101213Z",
     "iopub.status.busy": "2023-10-22T18:01:30.100649Z",
     "iopub.status.idle": "2023-10-22T18:01:30.127745Z",
     "shell.execute_reply": "2023-10-22T18:01:30.126575Z"
    },
    "papermill": {
     "duration": 0.045798,
     "end_time": "2023-10-22T18:01:30.130315",
     "exception": false,
     "start_time": "2023-10-22T18:01:30.084517",
     "status": "completed"
    },
    "tags": []
   },
   "outputs": [
    {
     "data": {
      "text/html": [
       "<div>\n",
       "<style scoped>\n",
       "    .dataframe tbody tr th:only-of-type {\n",
       "        vertical-align: middle;\n",
       "    }\n",
       "\n",
       "    .dataframe tbody tr th {\n",
       "        vertical-align: top;\n",
       "    }\n",
       "\n",
       "    .dataframe thead th {\n",
       "        text-align: right;\n",
       "    }\n",
       "</style>\n",
       "<table border=\"1\" class=\"dataframe\">\n",
       "  <thead>\n",
       "    <tr style=\"text-align: right;\">\n",
       "      <th></th>\n",
       "      <th>id</th>\n",
       "      <th>url</th>\n",
       "      <th>region</th>\n",
       "      <th>region_url</th>\n",
       "      <th>price</th>\n",
       "      <th>manufacturer</th>\n",
       "      <th>model</th>\n",
       "      <th>condition</th>\n",
       "      <th>cylinders</th>\n",
       "      <th>fuel</th>\n",
       "      <th>...</th>\n",
       "      <th>transmission</th>\n",
       "      <th>VIN</th>\n",
       "      <th>drive</th>\n",
       "      <th>size</th>\n",
       "      <th>type</th>\n",
       "      <th>paint_color</th>\n",
       "      <th>state</th>\n",
       "      <th>posting_date</th>\n",
       "      <th>removal_date</th>\n",
       "      <th>days_on_site</th>\n",
       "    </tr>\n",
       "  </thead>\n",
       "  <tbody>\n",
       "    <tr>\n",
       "      <th>0</th>\n",
       "      <td>7307679724</td>\n",
       "      <td>https://abilene.craigslist.org/ctd/d/abilene-2...</td>\n",
       "      <td>abilene</td>\n",
       "      <td>https://abilene.craigslist.org</td>\n",
       "      <td>4500</td>\n",
       "      <td>bmw</td>\n",
       "      <td>x5</td>\n",
       "      <td>good</td>\n",
       "      <td>6 cylinders</td>\n",
       "      <td>gas</td>\n",
       "      <td>...</td>\n",
       "      <td>automatic</td>\n",
       "      <td>1FMJU1JT1HEA52352</td>\n",
       "      <td>4wd</td>\n",
       "      <td>full-size</td>\n",
       "      <td>sedan</td>\n",
       "      <td>white</td>\n",
       "      <td>tx</td>\n",
       "      <td>2021-04-16 00:00:00+00:00</td>\n",
       "      <td>2021-05-02 00:00:00+00:00</td>\n",
       "      <td>16</td>\n",
       "    </tr>\n",
       "    <tr>\n",
       "      <th>1</th>\n",
       "      <td>7311833696</td>\n",
       "      <td>https://abilene.craigslist.org/ctd/d/abilene-2...</td>\n",
       "      <td>abilene</td>\n",
       "      <td>https://abilene.craigslist.org</td>\n",
       "      <td>4500</td>\n",
       "      <td>bmw</td>\n",
       "      <td>x5</td>\n",
       "      <td>good</td>\n",
       "      <td>6 cylinders</td>\n",
       "      <td>gas</td>\n",
       "      <td>...</td>\n",
       "      <td>automatic</td>\n",
       "      <td>1FMJU1JT1HEA52352</td>\n",
       "      <td>4wd</td>\n",
       "      <td>full-size</td>\n",
       "      <td>sedan</td>\n",
       "      <td>white</td>\n",
       "      <td>tx</td>\n",
       "      <td>2021-04-24 00:00:00+00:00</td>\n",
       "      <td>2021-04-28 00:00:00+00:00</td>\n",
       "      <td>4</td>\n",
       "    </tr>\n",
       "    <tr>\n",
       "      <th>2</th>\n",
       "      <td>7311441996</td>\n",
       "      <td>https://abilene.craigslist.org/ctd/d/abilene-2...</td>\n",
       "      <td>abilene</td>\n",
       "      <td>https://abilene.craigslist.org</td>\n",
       "      <td>4900</td>\n",
       "      <td>toyota</td>\n",
       "      <td>camry</td>\n",
       "      <td>excellent</td>\n",
       "      <td>4 cylinders</td>\n",
       "      <td>gas</td>\n",
       "      <td>...</td>\n",
       "      <td>automatic</td>\n",
       "      <td>1FMJU1JT1HEA52352</td>\n",
       "      <td>fwd</td>\n",
       "      <td>full-size</td>\n",
       "      <td>sedan</td>\n",
       "      <td>silver</td>\n",
       "      <td>tx</td>\n",
       "      <td>2021-04-23 00:00:00+00:00</td>\n",
       "      <td>2021-05-25 00:00:00+00:00</td>\n",
       "      <td>32</td>\n",
       "    </tr>\n",
       "    <tr>\n",
       "      <th>3</th>\n",
       "      <td>7307680715</td>\n",
       "      <td>https://abilene.craigslist.org/ctd/d/abilene-2...</td>\n",
       "      <td>abilene</td>\n",
       "      <td>https://abilene.craigslist.org</td>\n",
       "      <td>6500</td>\n",
       "      <td>ford</td>\n",
       "      <td>expedition</td>\n",
       "      <td>good</td>\n",
       "      <td>6 cylinders</td>\n",
       "      <td>gas</td>\n",
       "      <td>...</td>\n",
       "      <td>automatic</td>\n",
       "      <td>1FMJU1JT1HEA52352</td>\n",
       "      <td>4wd</td>\n",
       "      <td>full-size</td>\n",
       "      <td>sedan</td>\n",
       "      <td>white</td>\n",
       "      <td>tx</td>\n",
       "      <td>2021-04-16 00:00:00+00:00</td>\n",
       "      <td>2021-04-26 00:00:00+00:00</td>\n",
       "      <td>10</td>\n",
       "    </tr>\n",
       "    <tr>\n",
       "      <th>4</th>\n",
       "      <td>7311834578</td>\n",
       "      <td>https://abilene.craigslist.org/ctd/d/abilene-2...</td>\n",
       "      <td>abilene</td>\n",
       "      <td>https://abilene.craigslist.org</td>\n",
       "      <td>6500</td>\n",
       "      <td>ford</td>\n",
       "      <td>expedition</td>\n",
       "      <td>good</td>\n",
       "      <td>6 cylinders</td>\n",
       "      <td>gas</td>\n",
       "      <td>...</td>\n",
       "      <td>automatic</td>\n",
       "      <td>1FMJU1JT1HEA52352</td>\n",
       "      <td>4wd</td>\n",
       "      <td>full-size</td>\n",
       "      <td>sedan</td>\n",
       "      <td>white</td>\n",
       "      <td>tx</td>\n",
       "      <td>2021-04-24 00:00:00+00:00</td>\n",
       "      <td>2021-05-12 00:00:00+00:00</td>\n",
       "      <td>18</td>\n",
       "    </tr>\n",
       "  </tbody>\n",
       "</table>\n",
       "<p>5 rows × 22 columns</p>\n",
       "</div>"
      ],
      "text/plain": [
       "           id                                                url   region  \\\n",
       "0  7307679724  https://abilene.craigslist.org/ctd/d/abilene-2...  abilene   \n",
       "1  7311833696  https://abilene.craigslist.org/ctd/d/abilene-2...  abilene   \n",
       "2  7311441996  https://abilene.craigslist.org/ctd/d/abilene-2...  abilene   \n",
       "3  7307680715  https://abilene.craigslist.org/ctd/d/abilene-2...  abilene   \n",
       "4  7311834578  https://abilene.craigslist.org/ctd/d/abilene-2...  abilene   \n",
       "\n",
       "                       region_url  price manufacturer       model  condition  \\\n",
       "0  https://abilene.craigslist.org   4500          bmw          x5       good   \n",
       "1  https://abilene.craigslist.org   4500          bmw          x5       good   \n",
       "2  https://abilene.craigslist.org   4900       toyota       camry  excellent   \n",
       "3  https://abilene.craigslist.org   6500         ford  expedition       good   \n",
       "4  https://abilene.craigslist.org   6500         ford  expedition       good   \n",
       "\n",
       "     cylinders fuel  ...  transmission                VIN drive       size  \\\n",
       "0  6 cylinders  gas  ...     automatic  1FMJU1JT1HEA52352   4wd  full-size   \n",
       "1  6 cylinders  gas  ...     automatic  1FMJU1JT1HEA52352   4wd  full-size   \n",
       "2  4 cylinders  gas  ...     automatic  1FMJU1JT1HEA52352   fwd  full-size   \n",
       "3  6 cylinders  gas  ...     automatic  1FMJU1JT1HEA52352   4wd  full-size   \n",
       "4  6 cylinders  gas  ...     automatic  1FMJU1JT1HEA52352   4wd  full-size   \n",
       "\n",
       "    type paint_color state              posting_date  \\\n",
       "0  sedan       white    tx 2021-04-16 00:00:00+00:00   \n",
       "1  sedan       white    tx 2021-04-24 00:00:00+00:00   \n",
       "2  sedan      silver    tx 2021-04-23 00:00:00+00:00   \n",
       "3  sedan       white    tx 2021-04-16 00:00:00+00:00   \n",
       "4  sedan       white    tx 2021-04-24 00:00:00+00:00   \n",
       "\n",
       "               removal_date days_on_site  \n",
       "0 2021-05-02 00:00:00+00:00           16  \n",
       "1 2021-04-28 00:00:00+00:00            4  \n",
       "2 2021-05-25 00:00:00+00:00           32  \n",
       "3 2021-04-26 00:00:00+00:00           10  \n",
       "4 2021-05-12 00:00:00+00:00           18  \n",
       "\n",
       "[5 rows x 22 columns]"
      ]
     },
     "execution_count": 25,
     "metadata": {},
     "output_type": "execute_result"
    }
   ],
   "source": [
    "df.head()"
   ]
  },
  {
   "cell_type": "markdown",
   "id": "40a99ccc",
   "metadata": {
    "papermill": {
     "duration": 0.015093,
     "end_time": "2023-10-22T18:01:30.161005",
     "exception": false,
     "start_time": "2023-10-22T18:01:30.145912",
     "status": "completed"
    },
    "tags": []
   },
   "source": [
    "## Exploratory Data Analysis"
   ]
  },
  {
   "cell_type": "code",
   "execution_count": 26,
   "id": "012c4167",
   "metadata": {
    "execution": {
     "iopub.execute_input": "2023-10-22T18:01:30.193856Z",
     "iopub.status.busy": "2023-10-22T18:01:30.193480Z",
     "iopub.status.idle": "2023-10-22T18:01:31.745958Z",
     "shell.execute_reply": "2023-10-22T18:01:31.744755Z"
    },
    "papermill": {
     "duration": 1.572433,
     "end_time": "2023-10-22T18:01:31.748899",
     "exception": false,
     "start_time": "2023-10-22T18:01:30.176466",
     "status": "completed"
    },
    "tags": []
   },
   "outputs": [],
   "source": [
    "#importing visualization libraries\n",
    "import matplotlib.pyplot as plt\n",
    "import seaborn as sns\n",
    "\n",
    "%matplotlib inline"
   ]
  },
  {
   "cell_type": "code",
   "execution_count": 27,
   "id": "db16da34",
   "metadata": {
    "execution": {
     "iopub.execute_input": "2023-10-22T18:01:31.782148Z",
     "iopub.status.busy": "2023-10-22T18:01:31.781771Z",
     "iopub.status.idle": "2023-10-22T18:01:34.358690Z",
     "shell.execute_reply": "2023-10-22T18:01:34.357444Z"
    },
    "papermill": {
     "duration": 2.597311,
     "end_time": "2023-10-22T18:01:34.362021",
     "exception": false,
     "start_time": "2023-10-22T18:01:31.764710",
     "status": "completed"
    },
    "tags": []
   },
   "outputs": [
    {
     "data": {
      "image/png": "[encoded data removed]",
      "text/plain": [
       "<Figure size 640x480 with 1 Axes>"
      ]
     },
     "metadata": {},
     "output_type": "display_data"
    }
   ],
   "source": [
    "#visualizing the price distribution \n",
    "sns.histplot(df['price'], kde=True, bins=80)\n",
    "#setting axis labels\n",
    "plt.xlabel('Price')\n",
    "plt.ylabel('Frequency')\n",
    "plt.title('Car Prices Distribution')\n",
    "\n",
    "#displaying the plot\n",
    "plt.show()\n"
   ]
  },
  {
   "cell_type": "code",
   "execution_count": 28,
   "id": "fb7c6461",
   "metadata": {
    "execution": {
     "iopub.execute_input": "2023-10-22T18:01:34.395890Z",
     "iopub.status.busy": "2023-10-22T18:01:34.395492Z",
     "iopub.status.idle": "2023-10-22T18:01:38.381044Z",
     "shell.execute_reply": "2023-10-22T18:01:38.380112Z"
    },
    "papermill": {
     "duration": 4.00535,
     "end_time": "2023-10-22T18:01:38.383652",
     "exception": false,
     "start_time": "2023-10-22T18:01:34.378302",
     "status": "completed"
    },
    "tags": []
   },
   "outputs": [
    {
     "data": {
      "image/png": "[encoded data removed]",
      "text/plain": [
       "<Figure size 1800x1000 with 5 Axes>"
      ]
     },
     "metadata": {},
     "output_type": "display_data"
    }
   ],
   "source": [
    "#visualizing the value counts for the following columns:\n",
    "# cylinders, fuel, title_status, transmission, drive and size\n",
    "\n",
    "#creating a list of the columns i want to visualize\n",
    "columns = ['fuel', 'title_status', 'transmission', 'drive', 'size']\n",
    "\n",
    "#setting up a grid for the subplots\n",
    "column_number = 2\n",
    "rows_number = (len(columns) + column_number - 1) // column_number\n",
    "\n",
    "#setting the size for the entire grid\n",
    "plt.figure(figsize=(18, 10))\n",
    "\n",
    "#creating the subplots\n",
    "for i, column in enumerate(columns, 1):\n",
    "    plt.subplot(rows_number, column_number, i)\n",
    "    sns.countplot(data=df, x=column)\n",
    "    plt.title(f'{column} Count')\n",
    "    plt.grid(False)\n",
    "    \n",
    "    #adding annotations\n",
    "    value_counts = df[column].value_counts()\n",
    "    for j, (value, count) in enumerate(value_counts.items(), 1):\n",
    "        plt.text(j -1, count, f'{count}', ha='center', va='bottom')\n",
    "        \n",
    "#adjusting the layout\n",
    "plt.tight_layout()\n",
    "\n",
    "\n",
    "#displaying the plots\n",
    "plt.show()\n"
   ]
  },
  {
   "cell_type": "markdown",
   "id": "372e75d4",
   "metadata": {
    "papermill": {
     "duration": 0.017292,
     "end_time": "2023-10-22T18:01:38.418762",
     "exception": false,
     "start_time": "2023-10-22T18:01:38.401470",
     "status": "completed"
    },
    "tags": []
   },
   "source": [
    "cylinder column has many values so i had to plot it on its own for better readability"
   ]
  },
  {
   "cell_type": "code",
   "execution_count": 29,
   "id": "60d42482",
   "metadata": {
    "execution": {
     "iopub.execute_input": "2023-10-22T18:01:38.456719Z",
     "iopub.status.busy": "2023-10-22T18:01:38.455953Z",
     "iopub.status.idle": "2023-10-22T18:01:38.840372Z",
     "shell.execute_reply": "2023-10-22T18:01:38.838158Z"
    },
    "papermill": {
     "duration": 0.406134,
     "end_time": "2023-10-22T18:01:38.843055",
     "exception": false,
     "start_time": "2023-10-22T18:01:38.436921",
     "status": "completed"
    },
    "tags": []
   },
   "outputs": [
    {
     "data": {
      "text/plain": [
       "<Axes: ylabel='cylinders'>"
      ]
     },
     "execution_count": 29,
     "metadata": {},
     "output_type": "execute_result"
    },
    {
     "data": {
      "image/png": "[encoded data removed]",
      "text/plain": [
       "<Figure size 640x480 with 1 Axes>"
      ]
     },
     "metadata": {},
     "output_type": "display_data"
    }
   ],
   "source": [
    "df['cylinders'].value_counts().plot(kind='barh')"
   ]
  },
  {
   "cell_type": "code",
   "execution_count": 30,
   "id": "fba40446",
   "metadata": {
    "execution": {
     "iopub.execute_input": "2023-10-22T18:01:38.881519Z",
     "iopub.status.busy": "2023-10-22T18:01:38.881078Z",
     "iopub.status.idle": "2023-10-22T18:01:39.142164Z",
     "shell.execute_reply": "2023-10-22T18:01:39.141072Z"
    },
    "papermill": {
     "duration": 0.283755,
     "end_time": "2023-10-22T18:01:39.145040",
     "exception": false,
     "start_time": "2023-10-22T18:01:38.861285",
     "status": "completed"
    },
    "tags": []
   },
   "outputs": [
    {
     "data": {
      "text/plain": [
       "<Axes: >"
      ]
     },
     "execution_count": 30,
     "metadata": {},
     "output_type": "execute_result"
    },
    {
     "data": {
      "image/png": "[encoded data removed]",
      "text/plain": [
       "<Figure size 640x480 with 1 Axes>"
      ]
     },
     "metadata": {},
     "output_type": "display_data"
    }
   ],
   "source": [
    "#visualizing the distribution of days cars spent on the site\n",
    "df['days_on_site'].plot(kind='box')"
   ]
  },
  {
   "cell_type": "code",
   "execution_count": null,
   "id": "8968a3e6",
   "metadata": {
    "papermill": {
     "duration": 0.018436,
     "end_time": "2023-10-22T18:01:39.182305",
     "exception": false,
     "start_time": "2023-10-22T18:01:39.163869",
     "status": "completed"
    },
    "tags": []
   },
   "outputs": [],
   "source": []
  }
 ],
 "metadata": {
  "kernelspec": {
   "display_name": "Python 3",
   "language": "python",
   "name": "python3"
  },
  "language_info": {
   "codemirror_mode": {
    "name": "ipython",
    "version": 3
   },
   "file_extension": ".py",
   "mimetype": "text/x-python",
   "name": "python",
   "nbconvert_exporter": "python",
   "pygments_lexer": "ipython3",
   "version": "3.10.12"
  },
  "papermill": {
   "default_parameters": {},
   "duration": 74.278045,
   "end_time": "2023-10-22T18:01:40.323618",
   "environment_variables": {},
   "exception": null,
   "input_path": "__notebook__.ipynb",
   "output_path": "__notebook__.ipynb",
   "parameters": {},
   "start_time": "2023-10-22T18:00:26.045573",
   "version": "2.4.0"
  }
 },
 "nbformat": 4,
 "nbformat_minor": 5
}
